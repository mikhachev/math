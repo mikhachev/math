{
 "cells": [
  {
   "cell_type": "code",
   "execution_count": 2,
   "metadata": {},
   "outputs": [],
   "source": [
    "import pandas as pd\n",
    "import numpy as np\n",
    "from matplotlib import pyplot as plt\n",
    "\n",
    "plt.rcParams['figure.figsize'] = 12, 8"
   ]
  },
  {
   "cell_type": "markdown",
   "metadata": {},
   "source": [
    "Задача 1\n",
    "\n",
    "О непрерывной равномерно распределенной случайной величине B известно, что ее дисперсия равна 0.2. \n",
    "Можно ли найти правую границу величины B и ее среднее значение зная, что левая граница равна 0.5? Если да, найдите ее.\n",
    "\n",
    "\n",
    "Известно, что для РРСВ D = (B - A)^2/12\n",
    "Также, среднее значение будет равно мат. ожиданию M = (A + B)/2"
   ]
  },
  {
   "cell_type": "code",
   "execution_count": 3,
   "metadata": {},
   "outputs": [
    {
     "name": "stdout",
     "output_type": "stream",
     "text": [
      "2.049193338482967\n",
      "Среднее  1.2745966692414834\n"
     ]
    }
   ],
   "source": [
    "B = np.sqrt(2.4) + .5\n",
    "print(B)\n",
    "M = (B + 0.5)/2\n",
    "print('Среднее ', M)"
   ]
  },
  {
   "cell_type": "code",
   "execution_count": null,
   "metadata": {},
   "outputs": [],
   "source": [
    "Задача 2\n",
    "\n",
    "На сколько сигм (средних квадратических отклонений) отклоняется рост человека, равный 190 см, \n",
    "от математического ожидания роста в популяции, в которой M(X) = 178 и D(X) = 25?\n",
    "\n",
    "\n",
    "Рост человека подчиняется нормальному распределению. Сигма в данном случае равно корень из 25, т.е. (190-178)/5 = 2.4"
   ]
  },
  {
   "cell_type": "markdown",
   "metadata": {},
   "source": [
    "Задача 3\n",
    "\n",
    "Рост взрослого населения города X имеет нормальное распределение, причем, средний рост равен 174 см, а среднее квадратическое отклонение равно 8 см. Без использования сторонних библиотек (numpy, scipy, pandas и пр.) посчитайте, какова вероятность того, что случайным образом выбранный взрослый человек имеет рост:\n",
    "1. больше 182 см?\n",
    "2. больше 190 см?\n",
    "3. от 166 см до 190 см?\n",
    "4. от 166 см до 182 см?\n",
    "5. от 158 см до 190 см?\n",
    "6. не выше 150 см или не ниже 190 см?\n",
    "7. не выше 150 см или не ниже 198 см?\n",
    "8. ниже 166 см?\n",
    "\n",
    "Подсказка: всё необходимое для решения этого задания было в уроке 4."
   ]
  },
  {
   "cell_type": "code",
   "execution_count": 39,
   "metadata": {},
   "outputs": [],
   "source": [
    "#Рост подчиняется нормальному распределению, так что среднее равно мат.ожиданию\n",
    "# Это распределение симметрично, поэтому вероятность быть выше чем средний рост +3сигма (198см) \n",
    "# или ниже чем среднее минус 3 сигма(150 см) равно (1-0.9972)/2\n",
    "proba_start = (1-0.9972)/2\n",
    "loc= 174 \n",
    "scale = 8\n",
    "exp = 2.718\n",
    "def pdf_normal( x: float, loc = loc, scale = scale) -> float:\n",
    "    \"\"\"Функция плотности нормального распределения.\n",
    "    \"\"\"\n",
    "    \n",
    "    return exp**(- ((x - loc) ** 2) / (2 * scale ** 2)) / (scale * (2 * np.pi)**0.5)"
   ]
  },
  {
   "cell_type": "code",
   "execution_count": 40,
   "metadata": {},
   "outputs": [
    {
     "name": "stdout",
     "output_type": "stream",
     "text": [
      "больше 182 см  0.17442436461675542\n",
      "больше 190 см  0.026581796190028987\n",
      "от 166 см до 190 см  0.8366622067488214\n",
      "от 166 см до 182 см 0.7137172764997539\n",
      "от 158 см до 190 см 0.962407136997889\n",
      "не выше 150 см или не ниже 190 см 0.02853603577787715\n",
      "не выше 150 см или не ниже 198 см 0.002508479175696311\n",
      "ниже 166 см 0.856493732476084\n"
     ]
    }
   ],
   "source": [
    "def norm_probability(height_min = 150, height_max = 198):\n",
    "    proba = 0\n",
    "    for x in range(height_min, height_max + 1):\n",
    "        proba = proba + pdf_normal(x)\n",
    "        \n",
    "    return proba\n",
    "\n",
    "\n",
    "print('больше 182 см ', norm_probability(182, 198) + proba_start)\n",
    "print('больше 190 см ', norm_probability(190, 198) + proba_start)\n",
    "print('от 166 см до 190 см ', norm_probability(166, 190))\n",
    "print('от 166 см до 182 см', norm_probability(166, 182) + proba_start)\n",
    "print('от 158 см до 190 см', norm_probability(158, 190) + proba_start)\n",
    "print('не выше 150 см или не ниже 190 см', norm_probability(150, 150) + norm_probability(190, 198) + 2*proba_start)\n",
    "print('не выше 150 см или не ниже 198 см', norm_probability(150, 150) + norm_probability(198, 198) + proba_start)\n",
    "print('ниже 166 см', norm_probability(166, 198) + proba_start)\n",
    "\n"
   ]
  },
  {
   "cell_type": "markdown",
   "metadata": {},
   "source": [
    "Задача 4 (на подумать)\n",
    "\n",
    "Каким образом связаны между собой понятие квантиля и правила двух и трёх сигм? "
   ]
  },
  {
   "cell_type": "markdown",
   "metadata": {},
   "source": [
    "Связаны междуквантильный интервал и правила двух/трех сигм - примерно одно и тоже, \n",
    "только расстояние до мат. ожидания будут разные и соответственно вероятности. \n",
    "И междуквантильный интервал актуален и для равномерного распределенной СВ."
   ]
  },
  {
   "cell_type": "code",
   "execution_count": null,
   "metadata": {},
   "outputs": [],
   "source": [
    "samples.mean()"
   ]
  }
 ],
 "metadata": {
  "colab": {
   "name": "Матстат - Урок 4.ipynb",
   "provenance": [],
   "version": "0.3.2"
  },
  "kernelspec": {
   "display_name": "Python 3",
   "language": "python",
   "name": "python3"
  },
  "language_info": {
   "codemirror_mode": {
    "name": "ipython",
    "version": 3
   },
   "file_extension": ".py",
   "mimetype": "text/x-python",
   "name": "python",
   "nbconvert_exporter": "python",
   "pygments_lexer": "ipython3",
   "version": "3.7.1"
  }
 },
 "nbformat": 4,
 "nbformat_minor": 1
}
