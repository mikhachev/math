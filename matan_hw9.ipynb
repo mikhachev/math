{
 "cells": [
  {
   "cell_type": "code",
   "execution_count": 74,
   "metadata": {},
   "outputs": [
    {
     "name": "stdout",
     "output_type": "stream",
     "text": [
      "2.180201940316717 0.45126798148984204\n"
     ]
    }
   ],
   "source": [
    "###### import numpy as np\n",
    "from scipy.optimize import fsolve, broyden1\n",
    "import math\n",
    "\n",
    "def equations(p):\n",
    "    x, y = p\n",
    "    # Запись системы уравнения вида x+y=2, x-y=0\n",
    "    return (x*x - y*y - 3*x*y**3 - 2*x*x*y*y + 2*x -3*y -5, 3*y**3 - 2*x*x + 2*x**3*y - 5*x*x*y*y + 5)\n",
    "\n",
    "\n",
    "# Численное решение нелинечной системы уравнений\n",
    "x, y =  fsolve(equations, (10.0, 10.0), maxfev = 10000000)\n",
    "print (x, y)\n"
   ]
  },
  {
   "cell_type": "code",
   "execution_count": 71,
   "metadata": {},
   "outputs": [
    {
     "name": "stdout",
     "output_type": "stream",
     "text": [
      "2.180201940316717 0.45126798148984204 5 The iteration is not making good progress, as measured by the \n",
      "  improvement from the last ten iterations.\n"
     ]
    }
   ],
   "source": [
    "###### import numpy as np\n",
    "\n",
    "\n",
    "# Численное решение нелинечной системы уравнений\n",
    "\n",
    "(x, y), info, ier, mesg =  fsolve(equations, (10, 10), full_output=True)\n",
    "print (x, y, ier, mesg)"
   ]
  },
  {
   "cell_type": "code",
   "execution_count": 86,
   "metadata": {},
   "outputs": [
    {
     "name": "stdout",
     "output_type": "stream",
     "text": [
      "{(1.3612615, -0.1877837), (-3.7379963, -0.2683884), (-1.0486065, 1.9828308)}\n"
     ]
    }
   ],
   "source": [
    "solutions = []\n",
    "for i in range(0, 2001):\n",
    "    a, b = x, y\n",
    "    (x, y), info, ier, mesg =  fsolve(equations, (-10+i*0.001, 1.0), full_output=True)\n",
    "    if ier == 1:\n",
    "        x = round(x, 7)\n",
    "        y = round(y, 7)\n",
    "        solutions.append((x, y))\n",
    "print (set(solutions))\n",
    "\n",
    "# если сравнить с графиком, 2 корня похожи, и один нет. Он не всегда возникает, например fsolve(equations, (-10+i*0.01, -1.0)"
   ]
  },
  {
   "cell_type": "code",
   "execution_count": 82,
   "metadata": {},
   "outputs": [],
   "source": [
    "# Попробую в поискать в зоне известного, но не найденного корня с более мелким шагом:\n",
    "solutions = []\n",
    "for i in range(0, 10001):\n",
    "    a, b = x, y\n",
    "    (x, y), info, ier, mesg =  fsolve(equations, (2.50 - i*0.0001, 0.7), full_output=True)\n",
    "    if ier == 1:\n",
    "        x = round(x, 7)\n",
    "        y = round(y, 7)\n",
    "        # print(x, y)\n",
    "        solutions.append((x, y))\n",
    "print (set(solutions))\n",
    "        \n"
   ]
  },
  {
   "cell_type": "code",
   "execution_count": 84,
   "metadata": {},
   "outputs": [
    {
     "name": "stdout",
     "output_type": "stream",
     "text": [
      "{(1.3612615, -0.1877837), (-3.7379963, -0.2683884), (-1.0486065, 1.9828308)}\n"
     ]
    }
   ],
   "source": [
    "solutions = []\n",
    "for i in range(0, 500001):\n",
    "    a, b = x, y\n",
    "    (x, y), info, ier, mesg =  fsolve(equations, (1.28 - i*0.00001, 1.7), full_output=True)\n",
    "    if ier == 1:\n",
    "        x = round(x, 7)\n",
    "        y = round(y, 7)\n",
    "        # print(x, y)\n",
    "        solutions.append((x, y))\n",
    "print (set(solutions))"
   ]
  },
  {
   "cell_type": "markdown",
   "metadata": {},
   "source": [
    "Увы, ничего нового. \n",
    "Идея по алгоритму для поиска всех решений: \n",
    "Разбить координатную сетку от -50 до 50 с шагом 1 для x и y. Больше точно не надо, так как уравнения кубические и коэффициенты при числах не астрономические. Если значения двух уравнений отличаются меньше чем например на 10, запомнить такие клетки,  раздробить клетки с центром в этих точках их с шагом 0.2, для каждой клетки более высокого уровня отобрать по 5 более мелких. Если найдена точка с разницей функций меньше 10^-7, считать это решением, больше не дробить, сократить поиск до клеток с 4 подклетками, которые надо дробить. \n",
    "    "
   ]
  }
 ],
 "metadata": {
  "kernelspec": {
   "display_name": "Python 3",
   "language": "python",
   "name": "python3"
  },
  "language_info": {
   "codemirror_mode": {
    "name": "ipython",
    "version": 3
   },
   "file_extension": ".py",
   "mimetype": "text/x-python",
   "name": "python",
   "nbconvert_exporter": "python",
   "pygments_lexer": "ipython3",
   "version": "3.7.1"
  }
 },
 "nbformat": 4,
 "nbformat_minor": 2
}
