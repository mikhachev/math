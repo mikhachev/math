{
 "cells": [
  {
   "cell_type": "code",
   "execution_count": 1,
   "metadata": {
    "colab": {},
    "colab_type": "code",
    "id": "MPDgZjuQNKvB"
   },
   "outputs": [],
   "source": [
    "import warnings\n",
    "\n",
    "import numpy as np\n",
    "import pandas as pd\n",
    "from matplotlib import pyplot as plt\n",
    "\n",
    "warnings.filterwarnings('ignore')"
   ]
  },
  {
   "cell_type": "markdown",
   "metadata": {},
   "source": [
    "Даны значения зарплат из выборки выпускников:\n",
    "\n",
    "100, 80, 75, 77, 89, 33, 45, 25, 65, 17, 30, 24, 57, 55, 70, 75, 65, 84, 90, 150\n",
    "\n",
    "Без использования статистических функций вроде mean, std, var, посчитать среднее арифметическое, среднее квадратичное отклонение, смещённую и несмещённую оценки дисперсии для данной выборки.\n",
    "\n",
    "Можно затем посчитать те же значения с использованием статистических функций, чтобы проверить себя."
   ]
  },
  {
   "cell_type": "code",
   "execution_count": 2,
   "metadata": {},
   "outputs": [
    {
     "name": "stdout",
     "output_type": "stream",
     "text": [
      "Среднее арифметическое:  65.3 \n",
      " 65.3\n"
     ]
    }
   ],
   "source": [
    "salaries = np.array([100, 80, 75, 77, 89, 33, 45, 25, 65, 17, 30, 24, 57, 55, 70, 75, 65, 84, 90, 150])\n",
    "salaries_avg = salaries.mean()\n",
    "salaries_count = salaries.shape[0]\n",
    "print('Среднее арифметическое: ', salaries.sum()/salaries_count, '\\n', salaries_avg)\n"
   ]
  },
  {
   "cell_type": "code",
   "execution_count": 3,
   "metadata": {},
   "outputs": [
    {
     "name": "stdout",
     "output_type": "stream",
     "text": [
      "Cреднее квадратичное отклонение:  30.8238543988256 \n",
      " 30.823854398825596\n"
     ]
    }
   ],
   "source": [
    "y_values = (salaries - salaries_avg)**2\n",
    "prob = y_values.dot(1/salaries_count)\n",
    "salaries_std = np.sqrt(prob.sum())\n",
    "\n",
    "print('Cреднее квадратичное отклонение: ', salaries_std, '\\n', salaries.std())\n",
    "\n",
    "#salaries_std = np.sqrt(((df['height'] - df['height'].mean())**2).sum() / df['height'].count())"
   ]
  },
  {
   "cell_type": "code",
   "execution_count": 4,
   "metadata": {},
   "outputs": [
    {
     "name": "stdout",
     "output_type": "stream",
     "text": [
      "Дисперсия:  950.1100000000002 \n",
      " 950.11\n",
      "Несмещенная дисперсия:  1000.1157894736845 \n",
      " 1000.1157894736842\n"
     ]
    }
   ],
   "source": [
    "print('Дисперсия: ', salaries_std**2, '\\n', salaries.var(ddof=0))\n",
    "print('Несмещенная дисперсия: ', salaries_std**2*salaries_count/(salaries_count-1), '\\n', salaries.var(ddof=1))"
   ]
  },
  {
   "cell_type": "markdown",
   "metadata": {},
   "source": [
    "Задача 2\n",
    "\n",
    "Для выборки из задачи 1 найти первый и третий квартили, интерквартильное расстояние. \n",
    "Найти выбросы в выборке, используя для этого \"усы\" из boxplot.\n",
    "\n",
    "В этой задаче также нельзя использовать статистические функции. \n",
    "Неоднозначности в вычислении квантилей можно разрешать любым способом."
   ]
  },
  {
   "cell_type": "code",
   "execution_count": 28,
   "metadata": {},
   "outputs": [
    {
     "name": "stdout",
     "output_type": "stream",
     "text": [
      "39.0\n",
      "82.0\n",
      "Интерквартильное расстояние 43.0\n"
     ]
    }
   ],
   "source": [
    "sal_sort = np.sort(salaries) \n",
    "sal_sort \n",
    "q1 = (sal_sort[5] + sal_sort[4])/2\n",
    "q3 = (sal_sort[15]+ sal_sort[14])/2\n",
    "iqr = q3-q1\n",
    "print(q1)\n",
    "print(q3)\n",
    "print('Интерквартильное расстояние', iqr)"
   ]
  },
  {
   "cell_type": "code",
   "execution_count": 16,
   "metadata": {},
   "outputs": [
    {
     "name": "stdout",
     "output_type": "stream",
     "text": [
      "42.0\n",
      "81.0\n",
      "Интерквартильное расстояние 39.0\n"
     ]
    }
   ],
   "source": [
    "q1 = np.quantile(salaries, 0.25)\n",
    "q3 = np.quantile(salaries, 0.75)\n",
    "iqr = q3-q1\n",
    "print(q1)\n",
    "print(q3)\n",
    "print('Интерквартильное расстояние', iqr)"
   ]
  },
  {
   "cell_type": "code",
   "execution_count": 15,
   "metadata": {},
   "outputs": [
    {
     "data": {
      "image/png": "[encoded data removed]",
      "text/plain": [
       "<Figure size 648x432 with 1 Axes>"
      ]
     },
     "metadata": {
      "needs_background": "light"
     },
     "output_type": "display_data"
    }
   ],
   "source": [
    "# Create a figure instance\n",
    "fig = plt.figure(1, figsize=(9, 6))\n",
    "# Create an axes instance\n",
    "ax = fig.add_subplot(111)\n",
    "# Create the boxplot\n",
    "bp = ax.boxplot(salaries)"
   ]
  },
  {
   "cell_type": "code",
   "execution_count": 18,
   "metadata": {},
   "outputs": [
    {
     "data": {
      "text/plain": [
       "(-16.5, 139.5)"
      ]
     },
     "execution_count": 18,
     "metadata": {},
     "output_type": "execute_result"
    }
   ],
   "source": [
    "boxplot_range = (q1 - 1.5 * iqr, q3 + 1.5 * iqr)\n",
    "boxplot_range"
   ]
  },
  {
   "cell_type": "code",
   "execution_count": 19,
   "metadata": {},
   "outputs": [
    {
     "data": {
      "text/plain": [
       "array([150])"
      ]
     },
     "execution_count": 19,
     "metadata": {},
     "output_type": "execute_result"
    }
   ],
   "source": [
    "vybros = salaries[salaries > 139.5]\n",
    "vybros "
   ]
  },
  {
   "cell_type": "markdown",
   "metadata": {},
   "source": [
    "Задача 3\n",
    "\n",
    "Для распределения Пуассона с параметром a = 5 найти теоретические \n",
    "(т.е. используя закон распределения, а не выборку) мат. ожидание, моду и медиану."
   ]
  },
  {
   "cell_type": "markdown",
   "metadata": {},
   "source": [
    "Для распределения Пуассона математическое ожидание равно a, т.е. 5 (из методички). \n",
    "Это распределение имеет один пик.\n",
    "Мода также как и медиана, равна числу a."
   ]
  },
  {
   "cell_type": "markdown",
   "metadata": {},
   "source": [
    "Задача 4\n",
    "\n",
    "В университет на факультеты A и B поступило равное количество студентов, \n",
    "а на факультет C студентов поступило столько же, сколько на A и B вместе. \n",
    "Вероятность того, что студент факультета A сдаст первую сессию, равна 0.8. \n",
    "Для студента факультета B эта вероятность равна 0.7, а для студента факультета C - 0.9. \n",
    "Студент сдал первую сессию. Какова вероятность, что он учится:\n",
    "    a) на факультете A? б) на факультете B? в) на факультете C?\n",
    "\n",
    "Замечание: да, эта задача не на тему описательных статистик, но тема важная, \n",
    "и её стоит иногда освежать в памяти."
   ]
  },
  {
   "cell_type": "markdown",
   "metadata": {},
   "source": [
    "Пусть N -  число поступивших студентов.\n",
    "на факультет A поступило 0.25*N\n",
    "на факультет B поступило 0.25*N\n",
    "на факультет C поступило 0.5*N\n",
    "после первой сессии на факультете A останется 0.25*N*0.8 студентов\n",
    "на факультете B останется 0.25*N*0.7 студентов\n",
    "на факультете C останется 0.5*N*0.9 студентов\n",
    "Тогда вероятность, что после первой сессии студент \n",
    "на факультете A = 0.8*0.25/(0.8*0.25+0.7*0.25+0.9*0.5) = 0.2/0.825 = 24,2%\n",
    "на факультете B = 0.175/0.825 = 21,2%\n",
    "на факультете С = 0.45/0.825 = 54,6%\n",
    "\n"
   ]
  }
 ],
 "metadata": {
  "colab": {
   "name": "Матстат - Урок 3.ipynb",
   "provenance": [],
   "version": "0.3.2"
  },
  "kernelspec": {
   "display_name": "Python 3",
   "language": "python",
   "name": "python3"
  },
  "language_info": {
   "codemirror_mode": {
    "name": "ipython",
    "version": 3
   },
   "file_extension": ".py",
   "mimetype": "text/x-python",
   "name": "python",
   "nbconvert_exporter": "python",
   "pygments_lexer": "ipython3",
   "version": "3.7.3"
  }
 },
 "nbformat": 4,
 "nbformat_minor": 1
}
