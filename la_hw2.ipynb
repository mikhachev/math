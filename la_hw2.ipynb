{
 "cells": [
  {
   "cell_type": "markdown",
   "metadata": {},
   "source": [
    "### ДЗ 2. Матрицы, определители."
   ]
  },
  {
   "cell_type": "code",
   "execution_count": 1,
   "metadata": {
    "colab": {},
    "colab_type": "code",
    "id": "TraIV1atIIIX"
   },
   "outputs": [],
   "source": [
    "import numpy as np"
   ]
  },
  {
   "cell_type": "markdown",
   "metadata": {},
   "source": [
    "__2.__ Найти сумму и произведение матриц $A=\\begin{pmatrix}\n",
    "1 & -2\\\\ \n",
    "3 & 0\n",
    "\\end{pmatrix}$ и $B=\\begin{pmatrix}\n",
    "4 & -1\\\\ \n",
    "0 & 5\n",
    "\\end{pmatrix}.$"
   ]
  },
  {
   "cell_type": "code",
   "execution_count": 2,
   "metadata": {
    "colab": {},
    "colab_type": "code",
    "id": "byP9e5P6IIJe",
    "outputId": "1e7cd541-1f96-40a1-b80d-645cf57630d4"
   },
   "outputs": [
    {
     "name": "stdout",
     "output_type": "stream",
     "text": [
      "Матрица AB\n",
      "[[  4 -11]\n",
      " [ 12  -3]]\n"
     ]
    }
   ],
   "source": [
    "A = np.array([[1, -2], [3, 0]])\n",
    "B = np.array([[4, -1], [0, 5]])\n",
    "\n",
    "print(f'Матрица AB\\n{np.dot(A, B)}')"
   ]
  },
  {
   "cell_type": "markdown",
   "metadata": {},
   "source": [
    "__3.__ Из закономерностей сложения и умножения матриц на число можно сделать вывод, что матрицы одного размера образуют линейное пространство. Вычислить линейную комбинацию $3A-2B+4C$ для матриц $A=\\begin{pmatrix}\n",
    "1 & 7\\\\ \n",
    "3 & -6\n",
    "\\end{pmatrix}$, $B=\\begin{pmatrix}\n",
    "0 & 5\\\\ \n",
    "2 & -1\n",
    "\\end{pmatrix}$, $C=\\begin{pmatrix}\n",
    "2 & -4\\\\ \n",
    "1 & 1\n",
    "\\end{pmatrix}.$"
   ]
  },
  {
   "cell_type": "code",
   "execution_count": 14,
   "metadata": {},
   "outputs": [
    {
     "name": "stdout",
     "output_type": "stream",
     "text": [
      "Матрица AB\n",
      "[[ 11  -5]\n",
      " [  9 -12]]\n"
     ]
    }
   ],
   "source": [
    "A = np.array([[1, 7], [3, -6]])\n",
    "B = np.array([[0, 5], [2, -1]])\n",
    "C = np.array([[2, -4], [1, 1]])\n",
    "print(f'Матрица AB\\n{3*A -2*B + 4*C}')"
   ]
  },
  {
   "cell_type": "markdown",
   "metadata": {},
   "source": [
    "__4.__ Дана матрица $A=\\begin{pmatrix}\n",
    "4 & 1\\\\ \n",
    "5 & -2\\\\ \n",
    "2 & 3\n",
    "\\end{pmatrix}$.\n",
    "Вычислить $AA^{T}$ и $A^{T}A$.\n"
   ]
  },
  {
   "cell_type": "code",
   "execution_count": 20,
   "metadata": {},
   "outputs": [
    {
     "name": "stdout",
     "output_type": "stream",
     "text": [
      "Матрица At\n",
      "[[ 4  5  2]\n",
      " [ 1 -2  3]]\n",
      "Матрица A*At\n",
      "[[17 18 11]\n",
      " [18 29  4]\n",
      " [11  4 13]]\n",
      "Матрица At*A\n",
      "[[45  0]\n",
      " [ 0 14]]\n"
     ]
    }
   ],
   "source": [
    "A = np.array([[4, 1], [5, -2], [2, 3]])\n",
    "\n",
    "print(f'Матрица At\\n{A.T}')\n",
    "print(f'Матрица A*At\\n{np.dot(A, A.T)}')\n",
    "print(f'Матрица At*A\\n{np.dot(A.T, A)}')\n"
   ]
  },
  {
   "cell_type": "markdown",
   "metadata": {},
   "source": [
    "\n",
    "__5*.__ Написать на Python функцию для перемножения двух произвольных матриц, не используя NumPy."
   ]
  },
  {
   "cell_type": "code",
   "execution_count": 23,
   "metadata": {},
   "outputs": [
    {
     "name": "stdout",
     "output_type": "stream",
     "text": [
      "Первая матрица [[4, 8, 2], [8, 3, 5], [2, 8, 7]]\n",
      "Вторая матрица [[2, 7, 1], [7, 4, 6], [0, 5, 8]]\n",
      "Результат умножения [[64, 70, 68], [37, 93, 66], [60, 81, 106]]\n"
     ]
    }
   ],
   "source": [
    "from random import randrange\n",
    "\n",
    "def matrix_generate(n):  #Генерация квадратной матрицы размером n\n",
    "    m = []\n",
    "    for _ in range(n):\n",
    "        x = [randrange(0, 10) for i in range(n)]\n",
    "        m.append(x)\n",
    "    return(m)\n",
    "\n",
    "def matrix_mult(n = 3):  #Переменожение квадратных матриц\n",
    "    \n",
    "    a = matrix_generate(n)\n",
    "    b = matrix_generate(n)\n",
    "    print('Первая матрица', a)\n",
    "    print('Вторая матрица', b)\n",
    "    mmult = []\n",
    "    for i in range(n):\n",
    "        mmult.append([randrange(0, 1) for i in range(n)])\n",
    "    \n",
    "        \n",
    "            \n",
    "    for i in range(n):\n",
    "        for j in range(n):\n",
    "            total = 0\n",
    "            for k in range(n):\n",
    "                total += a[i][k] * b[k][j]\n",
    "            mmult[i][j] = total\n",
    "\n",
    "    print('Результат умножения', mmult)\n",
    "    \n",
    "\n",
    "matrix_mult(3)"
   ]
  },
  {
   "cell_type": "markdown",
   "metadata": {},
   "source": [
    "__2.1__ Вычислить определитель:\n",
    "\n",
    "   a)\n",
    "\n",
    "$$\\begin{vmatrix}\n",
    "sinx & -cosx\\\\ \n",
    "cosx & sinx\n",
    "\\end{vmatrix};$$"
   ]
  },
  {
   "cell_type": "code",
   "execution_count": null,
   "metadata": {},
   "outputs": [],
   "source": [
    "a = np.array([[1, 2, 1], [1, 1, 4], [2, 3, 6]])\n",
    "print(f'Матрица:\\n{a}')\n",
    "print(f'Определитель:\\n{np.linalg.det(a):.0f}')"
   ]
  },
  {
   "cell_type": "markdown",
   "metadata": {},
   "source": [
    "б)\n",
    "    \n",
    "$$\\begin{vmatrix}\n",
    "4 & 2 & 3\\\\ \n",
    "0 & 5 & 1\\\\ \n",
    "0 & 0 & 9\n",
    "\\end{vmatrix};$$"
   ]
  },
  {
   "cell_type": "code",
   "execution_count": 22,
   "metadata": {},
   "outputs": [
    {
     "name": "stdout",
     "output_type": "stream",
     "text": [
      "Матрица:\n",
      "[[4 2 3]\n",
      " [0 5 1]\n",
      " [0 0 9]]\n",
      "Определитель:\n",
      "180\n"
     ]
    }
   ],
   "source": [
    "a = np.array([[4, 2, 3], [0, 5, 1], [0, 0, 9]])\n",
    "print(f'Матрица:\\n{a}')\n",
    "print(f'Определитель:\\n{np.linalg.det(a):.0f}')"
   ]
  },
  {
   "cell_type": "markdown",
   "metadata": {},
   "source": [
    " в)\n",
    "\n",
    "$$\\begin{vmatrix}\n",
    "1 & 2 & 3\\\\ \n",
    "4 & 5 & 6\\\\ \n",
    "7 & 8 & 9\n",
    "\\end{vmatrix}.$$"
   ]
  },
  {
   "cell_type": "code",
   "execution_count": 21,
   "metadata": {},
   "outputs": [
    {
     "name": "stdout",
     "output_type": "stream",
     "text": [
      "Матрица:\n",
      "[[1 2 3]\n",
      " [4 5 6]\n",
      " [7 8 9]]\n",
      "Определитель:\n",
      "0\n"
     ]
    }
   ],
   "source": [
    "a = np.array([[1, 2, 3], [4, 5, 6], [7, 8, 9]])\n",
    "print(f'Матрица:\\n{a}')\n",
    "print(f'Определитель:\\n{np.linalg.det(a):.0f}')"
   ]
  },
  {
   "cell_type": "markdown",
   "metadata": {},
   "source": [
    "__2.2__ Определитель матрицы $A$ равен $4$. Найти:\n",
    "\n",
    "   а) $det(A^{2})$ <br>\n",
    "   Согласно свойству: для квадратных матриц одинакового размера<br>\n",
    "\n",
    "$det(AB)=detA\\cdot detB.$<br> Поэтому\n",
    "   \n",
    "   $det(A^{2})$ = $det(A)*det(A)$ = 16\n",
    "    \n",
    "   б) $det(A^{T})$;<br>\n",
    "   Определитель транспонированной матрицы равен определителю исходной:\n",
    "\n",
    "$detA^{T}=detA.$ = 16\n",
    "\n",
    "\n",
    "    \n",
    "   в) $det(2A)$.\n",
    "  Есть свойство, что Умножение строки или столбца матрицы на число $\\lambda$ приведет к умножению определителя матрицы на то же число. Значит, для матрицы порядка n, n строк будут умножены на 2, и определитель увелится в 2^{n} раз.\n",
    "  \n",
    "   $det(2A) = detA *2^{n} = 16$ <br><br>\n",
    "   Проверим."
   ]
  },
  {
   "cell_type": "code",
   "execution_count": 29,
   "metadata": {},
   "outputs": [
    {
     "name": "stdout",
     "output_type": "stream",
     "text": [
      "Матрица:\n",
      "[[31 14]\n",
      " [21 10]]\n",
      "Матрица:\n",
      "[[10  4]\n",
      " [ 6  4]]\n",
      "Определитель:\n",
      "16\n",
      "Определитель:\n",
      "4\n",
      "Определитель:\n",
      "16\n"
     ]
    }
   ],
   "source": [
    "a = np.array([[5, 2], [3 ,2 ]])\n",
    "b = np.dot(a, a)\n",
    "c = 2*a\n",
    "print(f'Матрица:\\n{b}')\n",
    "print(f'Матрица:\\n{c}')\n",
    "print(f'Определитель:\\n{np.linalg.det(b):.0f}')\n",
    "print(f'Определитель:\\n{np.linalg.det(a.T):.0f}')\n",
    "print(f'Определитель:\\n{np.linalg.det(c):.0f}')"
   ]
  },
  {
   "cell_type": "markdown",
   "metadata": {},
   "source": [
    "__2.3__  Доказать, что матрица\n",
    "\n",
    "$$\\begin{pmatrix}\n",
    "-2 & 7 & -3\\\\ \n",
    "4 & -14 & 6\\\\ \n",
    "-3 & 7 & 13\n",
    "\\end{pmatrix}$$\n",
    "   \n",
    "вырожденная.\n",
    "\n",
    "$$\\begin{vmatrix}\n",
    "-2 & 7 & -3\\\\ \n",
    "4 & -14 & 6\\\\ \n",
    "-3 & 7 & 13\n",
    "\\end{vmatrix} = \n",
    "-2\\begin{vmatrix}\n",
    "-14 & 6\\\\  \n",
    "7 & 13 \\\\ \n",
    "\\end{vmatrix}\n",
    "7\\begin{vmatrix}\n",
    "4 & 6\\\\  \n",
    "-3 & 13 \\\\ \n",
    "\\end{vmatrix} + \n",
    "-3\\begin{vmatrix}\n",
    "4 & -14\\\\  \n",
    "-3 & 7\\\\ \n",
    "\\end{vmatrix} = -2\\cdot(-14\\cdot13-6\\cdot7)\n",
    "7\\cdot(4\\cdot13 + 3\\cdot6) + (-3)\\cdot(4\\cdot7 - (-3)\\cdot(-14)) = 0.$$\n",
    "<br>\n",
    "Определитель матрицы равен 0, поэтому матрица вырожденная"
   ]
  },
  {
   "cell_type": "code",
   "execution_count": 32,
   "metadata": {},
   "outputs": [
    {
     "name": "stdout",
     "output_type": "stream",
     "text": [
      "Определитель:\n",
      "0\n"
     ]
    }
   ],
   "source": [
    "a = np.array([[-2, 7, -3], [4, -14, 6], [-3, 7, 13]])\n",
    "print(f'Определитель:\\n{np.linalg.det(a):.0f}')"
   ]
  },
  {
   "cell_type": "markdown",
   "metadata": {},
   "source": [
    "__2.4__ Найти ранг матрицы:\n",
    "\n",
    "   а) $\\begin{pmatrix}\n",
    "1 & 2 & 3\\\\ \n",
    "1 & 1 & 1\\\\ \n",
    "2 & 3 & 4\n",
    "\\end{pmatrix};$\n",
    "\n",
    "3-я строка является суммой первой и второй строк, ее можно отбросить. Остается <br>\n",
    "$\\begin{pmatrix}\n",
    "1 & 2 & 3\\\\ \n",
    "1 & 1 & 1\n",
    "\\end{pmatrix};$ <br>\n",
    "Из первой строки вычтем вторую:\n",
    "$\\begin{pmatrix}\n",
    "0 & 1 & 2\\\\ \n",
    "1 & 1 & 1\n",
    "\\end{pmatrix};$ <br>\n",
    "Таким образом, ранг матрицы равен 2.\n",
    "Проверим:\n"
   ]
  },
  {
   "cell_type": "code",
   "execution_count": 33,
   "metadata": {},
   "outputs": [
    {
     "name": "stdout",
     "output_type": "stream",
     "text": [
      "Ранг матрицы: 2\n"
     ]
    }
   ],
   "source": [
    "x = [1, 2, 3]\n",
    "y = [1, 1, 1]\n",
    "z = [2, 3, 4]\n",
    "a = np.array([x, y, z])\n",
    "r = np.linalg.matrix_rank(a)\n",
    "\n",
    "print(f'Ранг матрицы: {r}')"
   ]
  },
  {
   "cell_type": "markdown",
   "metadata": {},
   "source": [
    "   б) $\\begin{pmatrix}\n",
    "0 & 0 & 2 & 1\\\\ \n",
    "0 & 0 & 2 & 2\\\\ \n",
    "0 & 0 & 4 & 3\\\\ \n",
    "2 & 3 & 5 & 6\n",
    "\\end{pmatrix}.$ <br> Третья строка является суммой первой и второй, удалим ее. Переставим нижнюю строку наверх. <br>\n",
    "$\\begin{pmatrix} \n",
    "2 & 3 & 5 & 6\\\\\n",
    "0 & 0 & 2 & 1\\\\ \n",
    "0 & 0 & 2 & 2\n",
    "\\end{pmatrix}.$<br> Вычтем из третей строки вторую <br>\n",
    "$\\begin{pmatrix} \n",
    "2 & 3 & 5 & 6\\\\\n",
    "0 & 0 & 2 & 1\\\\ \n",
    "0 & 0 & 0 & 1\n",
    "\\end{pmatrix}.$<br>Ранг матрицы равен 3"
   ]
  },
  {
   "cell_type": "code",
   "execution_count": 35,
   "metadata": {},
   "outputs": [
    {
     "name": "stdout",
     "output_type": "stream",
     "text": [
      "Ранг матрицы: 3\n"
     ]
    }
   ],
   "source": [
    "x = [0, 0, 2, 1]\n",
    "y = [0, 0, 2, 2]\n",
    "z = [0, 0, 4, 3]\n",
    "w = [2, 3, 5, 6]\n",
    "a = np.array([x, y, z, w])\n",
    "r = np.linalg.matrix_rank(a)\n",
    "\n",
    "print(f'Ранг матрицы: {r}')"
   ]
  }
 ],
 "metadata": {
  "colab": {
   "collapsed_sections": [],
   "name": "Lesson_3-REVISED.ipynb",
   "provenance": []
  },
  "kernelspec": {
   "display_name": "Python 3",
   "language": "python",
   "name": "python3"
  },
  "language_info": {
   "codemirror_mode": {
    "name": "ipython",
    "version": 3
   },
   "file_extension": ".py",
   "mimetype": "text/x-python",
   "name": "python",
   "nbconvert_exporter": "python",
   "pygments_lexer": "ipython3",
   "version": "3.7.1"
  }
 },
 "nbformat": 4,
 "nbformat_minor": 1
}
