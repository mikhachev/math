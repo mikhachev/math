{
 "cells": [
  {
   "cell_type": "markdown",
   "metadata": {
    "colab_type": "text",
    "id": "VasUbr7Qc7af"
   },
   "source": [
    "### Линейные нормированные пространства"
   ]
  },
  {
   "cell_type": "markdown",
   "metadata": {},
   "source": [
    "Практическое задание\n",
    "\n",
    "__1.__ Исследовать на линейную зависимость:\n",
    "$$f_{1}(x)=e^{x}, f_{2}(x)=1, f_{3}(x)=x+1, f_{4}(x)=x-e^{x}.$$\n",
    "\n",
    "Решение:  \n",
    "$$f_{4}(x)=f_{3}(x)-f_{2}(x)- f_{1}(x)$$\n",
    "поэтому векторы линейно зависимы\n",
    "\n",
    "\n"
   ]
  },
  {
   "cell_type": "markdown",
   "metadata": {},
   "source": [
    "__2.__ Исследовать на линейную зависимость:\n",
    "$$f_{1}(x)=2, f_{2}(x)=x, f_{3}(x)=x^{2}, f_{4}(x)=(x+1)^{2}.$$\n",
    "\n",
    "Решение:\n",
    "$$f_{4}(x)=f_{3}(x)+2f_{2}(x)+0,5 f_{1}(x)$$\n",
    "поэтому векторы линейно зависимы\n"
   ]
  },
  {
   "cell_type": "markdown",
   "metadata": {},
   "source": [
    "__3.__ Найти координаты вектора $x = (2, 3, 5)\\in \\mathbb{R}^{3}$ в базисе $b_{1}=(0, 0, 10)$, $b_{2}=(2, 0, 0)$, $b_{3}=(0, 1, 0)$.\n",
    "\n",
    "Решение: \n",
    "\n",
    "$$x=(2, 3, 5)=(2,0,0)+(0, 3, 0)+(0, 0, 5)=1\\cdot(2, 0, 0)+3\\cdot(0, 1, 0)+0.5\\cdot(0, 0, 10)=2b_{2}+3b_{3}+0.5b_{1},$$\n",
    "\n",
    "то есть координатами вектора $x$ в заданном базисе являются $0.5$, $2$, $3$."
   ]
  },
  {
   "cell_type": "markdown",
   "metadata": {},
   "source": [
    "__4.__ Найти координаты вектора $3x^{2}-2x+2\\in\\mathbb{R}^{3}[x]$:\n",
    "\n",
    "   а) в базисе $1$, $x$, $x^{2}$;\n",
    "   \n",
    "   Решение: \n",
    "\n",
    "\n",
    "    координатами вектора \n",
    " $3x^{2}-2x+2\\in\\mathbb{R}^{3}[x]$ в базисе $1$, $x$, $x^{2}$ являются $2$, $-2$, $3$.\n",
    "\n",
    "   б) в базисе $x^{2}$, $x-1$, $1$.\n",
    "    \n",
    "координатами вектора $$3x^{2}-2x+2\\in\\mathbb{R}^{3}[x]$$ в базисе  $x^{2}$, $x-1$, $1$ являются $3$, $-2$, $0$.\n",
    "    \n"
   ]
  },
  {
   "cell_type": "markdown",
   "metadata": {},
   "source": [
    "__5. Установить, является ли линейным подпространством:__\n",
    "\n",
    "а) совокупность всех векторов трехмерного пространства, у которых по крайней мере одна из первых двух координат равна нулю;\n",
    "\n",
    "__Решение__\n",
    "\n",
    "Имеется три варианта для этих векторов:\n",
    "$$(0, a, b) , (a, 0, b) и (0, 0, b). Однако третий является частным случаем первого и второго множества, так что его можно не проверять.\n",
    "\n",
    "Проверим первое подпространство:\n",
    "$$(0, a, b)+(0, c, d) = (0, a+c, b+d),$$ $$\\alpha\\cdot (0, a, b) = (0, \\alpha a, \\alpha b).$$\n",
    "\n",
    "Полученные векторы также принадлежат указанному в задании множеству всех векторов вида $(0, a, b)$, то есть данное множество является подпространством линейного пространства $\\mathbb{R}^{3}$.\n",
    "Аналогичное доказательство будет для второго подпространства.\n",
    "Поэтому совокупность всех этих подпространств также будет являться линейной.\n",
    "\n",
    "б) все векторы, являющиеся линейными комбинациями данных векторов {𝑢1,𝑢2,...,𝑢𝑛}\n",
    "."
   ]
  },
  {
   "cell_type": "markdown",
   "metadata": {},
   "source": [
    "__2.1.__ Найти скалярное произведение векторов $x, y \\in \\mathbb{R}$:<br>\n",
    "а) $x=(0,-3, 6),~y=(-4, 7, 9);$<br>\n",
    "б) $x=(7, -4, 0, 1),~y=(-3, 1, 11, 2).$\n",
    "\n",
    "\n"
   ]
  },
  {
   "cell_type": "code",
   "execution_count": 2,
   "metadata": {},
   "outputs": [],
   "source": [
    "import numpy as np"
   ]
  },
  {
   "cell_type": "code",
   "execution_count": 32,
   "metadata": {},
   "outputs": [
    {
     "name": "stdout",
     "output_type": "stream",
     "text": [
      "Скалярное произведение :\n",
      "33\n",
      "l1 норма вектора b:\n",
      "9.0\n",
      "l1 норма вектора b:\n",
      "20.0\n"
     ]
    }
   ],
   "source": [
    "x1 = np.array([0, -3, 6])\n",
    "y1 = np.array([-4, 7, 9])\n",
    "print(f'Скалярное произведение :\\n{np.dot(x1, y1)}')\n"
   ]
  },
  {
   "cell_type": "code",
   "execution_count": 31,
   "metadata": {},
   "outputs": [
    {
     "name": "stdout",
     "output_type": "stream",
     "text": [
      "Скалярное произведение :\n",
      "-23\n",
      "Скалярное произведение :\n",
      "-23\n"
     ]
    }
   ],
   "source": [
    "x2 = np.array([7, -4, 0, 1])\n",
    "y2 = np.array([-3, 1, 11, 2])\n",
    "print(f'Скалярное произведение :\\n{np.dot(x2, y2)}')\n"
   ]
  },
  {
   "cell_type": "markdown",
   "metadata": {},
   "source": [
    "__2.2__ Найти нормы векторов $(4, 2, 4)$ и $(12, 3, 4)$ и угол между ними."
   ]
  },
  {
   "cell_type": "code",
   "execution_count": 3,
   "metadata": {
    "colab": {},
    "colab_type": "code",
    "id": "H9M6n4a6c7ao"
   },
   "outputs": [],
   "source": [
    "from numpy.linalg import norm"
   ]
  },
  {
   "cell_type": "markdown",
   "metadata": {
    "colab_type": "text",
    "id": "pDIsUYZoc7at"
   },
   "source": [
    "Зададим вектор $a=(1,2,-3)$:"
   ]
  },
  {
   "cell_type": "code",
   "execution_count": 8,
   "metadata": {
    "colab": {},
    "colab_type": "code",
    "id": "drdHOC5mc7au"
   },
   "outputs": [],
   "source": [
    "a = np.array([4, 2, 4])\n",
    "b = np.array([12, 3, 4])"
   ]
  },
  {
   "cell_type": "code",
   "execution_count": 10,
   "metadata": {
    "colab": {},
    "colab_type": "code",
    "id": "aekUSsaCc7az",
    "outputId": "7f8198f9-0de4-44c9-b96c-b5381ee91256"
   },
   "outputs": [
    {
     "name": "stdout",
     "output_type": "stream",
     "text": [
      "l1 норма вектора a:\n",
      "10.0\n",
      "l1 норма вектора b:\n",
      "10.0\n"
     ]
    }
   ],
   "source": [
    "print(f'l1 норма вектора a:\\n{norm(a, ord=1)}')\n",
    "print(f'l1 норма вектора b:\\n{norm(b, ord=1)}')"
   ]
  },
  {
   "cell_type": "code",
   "execution_count": 11,
   "metadata": {
    "colab": {},
    "colab_type": "code",
    "id": "3QfaU29wc7a7",
    "outputId": "6f25c67f-6da6-4b02-8f9f-78378003809f"
   },
   "outputs": [
    {
     "name": "stdout",
     "output_type": "stream",
     "text": [
      "l2 норма вектора a:\n",
      "6.0\n",
      "l2 норма вектора b:\n",
      "13.0\n"
     ]
    }
   ],
   "source": [
    "print(f'l2 норма вектора a:\\n{norm(a, ord=2)}')\n",
    "print(f'l2 норма вектора b:\\n{norm(b, ord=2)}')"
   ]
  },
  {
   "cell_type": "code",
   "execution_count": 12,
   "metadata": {
    "colab": {},
    "colab_type": "code",
    "id": "VIfTMQnjc7bP",
    "outputId": "3fc2a069-245e-4c11-d884-dee734edc70d"
   },
   "outputs": [
    {
     "name": "stdout",
     "output_type": "stream",
     "text": [
      "Косинус угла между a и b: 0.90\n",
      "Угол между a и b: 0.46\n"
     ]
    }
   ],
   "source": [
    "cos_phi = np.dot(a, b) / norm(a) / norm(b)\n",
    "print(f'Косинус угла между a и b: {cos_phi:.2f}')\n",
    "print(f'Угол между a и b: {np.arccos(cos_phi):.2f}')"
   ]
  },
  {
   "cell_type": "markdown",
   "metadata": {},
   "source": [
    "\n",
    "__2.3__ Будет ли линейное пространство евклидовым, если за скалярное произведение принять:<br>\n",
    "а) произведение длин векторов;<br>\n",
    "б) утроенное обычное скалярное произведение векторов?"
   ]
  },
  {
   "cell_type": "markdown",
   "metadata": {},
   "source": [
    "Требуется проверить 4 аксиомы:\n",
    "1) (𝑥,𝑦)=(𝑦,𝑥);\n",
    "2) (𝜆𝑥,𝑦)=𝜆(𝑥,𝑦);\n",
    "3) (𝑥1+𝑥2,𝑦)=(𝑥1,𝑦)+(𝑥2,𝑦);\n",
    "4) (𝑥,𝑥)≥0, причем (𝑥,𝑥)=0⇔𝑥=0.\n"
   ]
  },
  {
   "cell_type": "markdown",
   "metadata": {},
   "source": [
    "а) произведение длин векторов;<br>\n",
    "длины векторов это обычные числа, поэтому от перестановки их ничего не изменится<br>\n",
    "аналогично для второй<br>\n",
    "для чисел эта аксиома соблюдается<br>\n",
    "число в квадрате всегда больше равно 0<br>\n",
    "Аналогично можно сказать, вспомнив про аксиомы про нормированное пространство:<br>\n",
    "1) $\\left\\|x\\right\\|\\geq0$, причем $\\left\\|x\\right\\|=0\\Leftrightarrow x=0;$<br>\n",
    "2) $\\left\\|\\lambda x\\right\\|$ = $|\\lambda|\\left\\|x\\right\\|$;<br>\n",
    "3) $\\left\\| x + y \\right\\|$ = $\\left\\|x\\right\\|$ + $\\left\\|y\\right\\|$.<br>\n",
    "Ответ: пространство будет евклидовым"
   ]
  },
  {
   "cell_type": "markdown",
   "metadata": {},
   "source": [
    "б) утроенное обычное скалярное произведение векторов?<br>\n",
    "1)  3(𝑥,𝑦)=3(𝑦,𝑥) = 3*x*y*cos(a)<br>\n",
    "2)  3(𝜆𝑥,𝑦)=3𝜆(𝑥,𝑦) = 3*𝜆*x*y*cos(a)<br>\n",
    "3) 3(𝑥1+𝑥2,𝑦)= 3(𝑥1+𝑥2)𝑦*cos(a) =3(𝑥1,𝑦)+3(𝑥2,𝑦);\n",
    "4) 3(𝑥,𝑥)≥0, причем 3(𝑥,𝑥)=0⇔𝑥=0.\n",
    "Ответ: пространство будет евклидовым"
   ]
  },
  {
   "cell_type": "markdown",
   "metadata": {},
   "source": [
    "__2.4__ Какие из нижеперечисленных векторов образуют ортонормированный базис в линейном пространстве $\\mathbb{R}^{3}$:<br>\n",
    "а) $(1,0,0),(0,0,1);$ <br>"
   ]
  },
  {
   "cell_type": "code",
   "execution_count": 10,
   "metadata": {},
   "outputs": [
    {
     "name": "stdout",
     "output_type": "stream",
     "text": [
      "Скалярное произведение :\n",
      "0\n",
      "x1 и y1 образуют ортонормированный базис\n"
     ]
    }
   ],
   "source": [
    "x1 = np.array([1, 0, 0])\n",
    "y1 = np.array([0, 0, 1])\n",
    "print(f'Скалярное произведение :\\n{np.dot(x1, y1)}')\n",
    "print('x1 и y1 образуют ортонормированный базис')"
   ]
  },
  {
   "cell_type": "markdown",
   "metadata": {},
   "source": [
    "б) $(1/\\sqrt{2},-1/\\sqrt{2},0),(1/\\sqrt{2},1/\\sqrt{2},0), (0,0,1);$<br>"
   ]
  },
  {
   "cell_type": "code",
   "execution_count": 25,
   "metadata": {},
   "outputs": [
    {
     "name": "stdout",
     "output_type": "stream",
     "text": [
      "x1 и y1 и z1 не образуют ортонормированный базис\n",
      "Скалярное произведение x2, y2 :\n",
      "0.0\n",
      "Скалярное произведение z2, y2:\n",
      "0.0\n",
      "Скалярное произведение x2, z2 :\n",
      "0.0\n",
      "Скалярное произведение x2, y2, z2 :\n",
      "[0. 0. 0.]\n",
      "x2 и y2 и z2 образуют ортонормированный базис\n"
     ]
    },
    {
     "data": {
      "text/plain": [
       "array([0., 0., 0.])"
      ]
     },
     "execution_count": 25,
     "metadata": {},
     "output_type": "execute_result"
    }
   ],
   "source": [
    "x2 = np.array([1/np.sqrt(2), -1/np.sqrt(2), 0])\n",
    "y2 = np.array([1/np.sqrt(2), 1/np.sqrt(2), 0])\n",
    "z2 = np.array([0, 0, 1])\n",
    "print('x1 и y1 и z1 не образуют ортонормированный базис')\n",
    "print(f'Скалярное произведение x2, y2 :\\n{np.dot(x2, y2)}')\n",
    "print(f'Скалярное произведение z2, y2:\\n{np.dot(z2, y2)}')\n",
    "print(f'Скалярное произведение x2, z2 :\\n{np.dot(x2, z2)}')\n",
    "print(f'Скалярное произведение x2, y2, z2 :\\n{np.dot(x2, np.dot(y2, z2))}')\n",
    "print('x2 и y2 и z2 образуют ортонормированный базис')\n",
    "np.dot(np.dot(x2, y2), z2)\n"
   ]
  },
  {
   "cell_type": "markdown",
   "metadata": {},
   "source": [
    "в) $(1/2, -1/2, 0), (0, 1/2, 1/2), (0,0,1);$<br>"
   ]
  },
  {
   "cell_type": "code",
   "execution_count": 29,
   "metadata": {},
   "outputs": [
    {
     "name": "stdout",
     "output_type": "stream",
     "text": [
      "[ 0.    0.   -0.25]\n",
      "x3 и y3 и z3 не образуют ортонормированный базис\n"
     ]
    }
   ],
   "source": [
    "x3 = np.array([1/2, -1/2, 0])\n",
    "y3 = np.array([0,1/2, 1/2])\n",
    "z3 = np.array([0, 0, 1])\n",
    "print(np.dot(np.dot(x3, y3), z3))\n",
    "print('x3 и y3 и z3 не образуют ортонормированный базис')"
   ]
  },
  {
   "cell_type": "markdown",
   "metadata": {},
   "source": [
    "г) $(1,0,0),(0,1,0),(0,0,1)?$ "
   ]
  },
  {
   "cell_type": "code",
   "execution_count": null,
   "metadata": {},
   "outputs": [],
   "source": [
    "здесь очевидно, что базис ортонормирован"
   ]
  },
  {
   "cell_type": "markdown",
   "metadata": {
    "colab_type": "text",
    "id": "81d4BnNXc7cy"
   },
   "source": [
    "__1.__ Найти скалярное произведение векторов $x, y \\in \\mathbb{R}$:<br>\n",
    "а) $x=(0,-3, 6),~y=(-4, 7, 9);$<br>\n",
    "б) $x=(7, -4, 0, 1),~y=(-3, 1, 11, 2).$\n",
    "\n",
    "__2.__ Найти нормы векторов $(4, 2, 4)$ и $(12, 3, 4)$ и угол между ними.\n",
    "\n",
    "\n",
    "__3.__ Будет ли линейное пространство евклидовым, если за скалярное произведение принять:<br>\n",
    "а) произведение длин векторов;<br>\n",
    "б) утроенное обычное скалярное произведение векторов?\n",
    "   \n",
    "   \n",
    "__4.__ Какие из нижеперечисленных векторов образуют ортонормированный базис в линейном пространстве $\\mathbb{R}^{3}$:<br>\n",
    "а) $(1,0,0),(0,0,1);$ <br>\n",
    "б) $(1/\\sqrt{2},-1/\\sqrt{2},0),(1/\\sqrt{2},1/\\sqrt{2},0), (0,0,1);$<br>\n",
    "в) $(1/2, -1/2, 0), (0, 1/2, 1/2), (0,0,1);$<br>\n",
    "г) $(1,0,0),(0,1,0),(0,0,1)?$ "
   ]
  },
  {
   "cell_type": "markdown",
   "metadata": {
    "colab_type": "text",
    "id": "Dy-9B3Uwc7cz"
   },
   "source": [
    "## Литература"
   ]
  },
  {
   "cell_type": "markdown",
   "metadata": {
    "colab_type": "text",
    "id": "JOAQaPnDc7c1"
   },
   "source": [
    "## Дополнительные материалы"
   ]
  },
  {
   "cell_type": "markdown",
   "metadata": {
    "colab_type": "text",
    "id": "sSWpQjS6c7c2"
   },
   "source": [
    "1. [Манхэттенская метрика](https://ru.wikipedia.org/wiki/Расстояние_городских_кварталов).\n",
    "\n",
    "2. [Евклидова метрика](https://ru.wikipedia.org/wiki/Евклидова_метрика).\n",
    "\n",
    "3. [Скалярное произведение в Python](http://docs.scipy.org/doc/numpy/reference/routines.linalg.html#matrix-and-vector-products).\n",
    "\n",
    "4. [Документация по нормам в NumPy](http://docs.scipy.org/doc/numpy-1.10.0/reference/generated/numpy.linalg.norm.html)\n",
    "\n",
    "5. [Документация по метрикам в SciPy](http://docs.scipy.org/doc/scipy-0.16.0/reference/generated/scipy.spatial.distance.cdist.html)"
   ]
  }
 ],
 "metadata": {
  "colab": {
   "collapsed_sections": [],
   "name": "Lesson_2-REVISED.ipynb",
   "provenance": []
  },
  "kernelspec": {
   "display_name": "Python 3",
   "language": "python",
   "name": "python3"
  },
  "language_info": {
   "codemirror_mode": {
    "name": "ipython",
    "version": 3
   },
   "file_extension": ".py",
   "mimetype": "text/x-python",
   "name": "python",
   "nbconvert_exporter": "python",
   "pygments_lexer": "ipython3",
   "version": "3.7.1"
  }
 },
 "nbformat": 4,
 "nbformat_minor": 1
}
