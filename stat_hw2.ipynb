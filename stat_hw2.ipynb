{
 "cells": [
  {
   "cell_type": "markdown",
   "metadata": {},
   "source": [
    "По поводу задания 5 из 1го дз:   \n",
    "Доказательством того, что это события зависимые события, служит что вероятность выпадения четного числа = 1/3, когда число больше трех, и это не равно 1/2. Не стал об этом писать, т.к. такое доказательство бы не работало при числе граней кубика = 8, вероятности бы совпали. Но ведь это все равно не независимые события?"
   ]
  },
  {
   "cell_type": "code",
   "execution_count": 1,
   "metadata": {},
   "outputs": [],
   "source": [
    "from math import factorial\n",
    "import numpy as np\n",
    "\n",
    "def combinations(n, k):\n",
    "    return int(factorial(n) / (factorial(k) * factorial(n - k)))\n",
    "\n",
    "\n",
    "def arrangements(n, k):\n",
    "    return int(factorial(n) / factorial(n - k))\n",
    "\n",
    "\n",
    "def permutations(n):\n",
    "    return int(factorial(n))"
   ]
  },
  {
   "cell_type": "markdown",
   "metadata": {},
   "source": [
    "Задача 1\n",
    "\n",
    "Контрольная работа состоит из пяти вопросов. На каждый вопрос приведено четыре варианта ответа,\n",
    "один из которых правильный. Составьте закон распределения числа правильных ответов при простом угадывании. \n",
    "Найдите M(X), D(X)."
   ]
  },
  {
   "cell_type": "markdown",
   "metadata": {},
   "source": [
    "Диск. сл. велична распределена по биномиальному закону Всего вероятность угадать в каждом вопросе p= 1/4, n=5, q = 3/4\n",
    "\n",
    "Закон распределения:\n",
    "\n",
    "P_n(X=k) = C_n^k p^k q^{n-k} \n",
    "Число вариантов ответить на вопрос = 5^4 = 625 \n",
    "Число способов вытянуть 0 правильных ответов: С(5, 0)(3/4)^5 = 243/1024 \n",
    "Число способов вытянуть 1 правильный ответ: С(5, 1)(3/4)^4/4 = 405/1024 \n",
    "Число способов вытянуть 2 правильных ответа: С(5, 2)(3/4)^3/16 = 270/1024 \n",
    "Число способов вытянуть 3 правильных ответа: С(5, 3)(3/4)^2/64 = 90/1024 \n",
    "Число способов вытянуть 4 правильных ответа: С(5, 4)(3/4)^1/256 = 15/1024 \n",
    "Число способов вытянуть 5 правильных ответа: С(5, 5)/1024 = 1/1024\n"
   ]
  },
  {
   "cell_type": "code",
   "execution_count": 2,
   "metadata": {},
   "outputs": [
    {
     "name": "stdout",
     "output_type": "stream",
     "text": [
      "Математическое ожидание:  1.25\n"
     ]
    }
   ],
   "source": [
    "x_values = np.arange(0, 6)\n",
    "x_probabilities = np.array([243, 405, 270, 90, 15, 1])/1024\n",
    "m = x_values.dot(x_probabilities)\n",
    "print('Математическое ожидание: ', m)"
   ]
  },
  {
   "cell_type": "code",
   "execution_count": 3,
   "metadata": {},
   "outputs": [
    {
     "name": "stdout",
     "output_type": "stream",
     "text": [
      "Дисперсия:  0.9375\n"
     ]
    }
   ],
   "source": [
    "y_values = (x_values - m)**2\n",
    "d = y_values.dot(x_probabilities)\n",
    "print('Дисперсия: ',d)"
   ]
  },
  {
   "cell_type": "markdown",
   "metadata": {},
   "source": [
    "Задача 2\n",
    "Вероятность попадания в цель при одном выстреле равна 0.01. Какова вероятность того, что число попаданий \n",
    "при 200 выстрелах будет не менее 5 и не более 10?\n",
    "\n",
    "Здесь мы имеем дело со счетчиком, поэтому распределение СВ будет по Пуассону. При высоком числе событий a =np = 200*0.01 =2"
   ]
  },
  {
   "cell_type": "code",
   "execution_count": 4,
   "metadata": {},
   "outputs": [
    {
     "name": "stdout",
     "output_type": "stream",
     "text": [
      "0.052644709119342686\n"
     ]
    }
   ],
   "source": [
    "a = 2\n",
    "k = 5\n",
    "prob = 0\n",
    "for k in range(5, 11):\n",
    "    prob += (a ** k) * (np.exp(-a)) / np.math.factorial(k)\n",
    "print(prob)"
   ]
  },
  {
   "cell_type": "markdown",
   "metadata": {},
   "source": [
    "Задача 3\n",
    "\n",
    "В условиях предыдущей задачи сколько выстрелов нужно сделать чтобы быть уверенным с вероятностью 0.9, \n",
    "что хотя бы 10 раз будет совершено попадание?\n",
    "\n",
    "Подсказка. Как посчитать P(X >= k) для величины X, имеющей распределение Пуассона? Здесь предстоит немножко покодить."
   ]
  },
  {
   "cell_type": "code",
   "execution_count": 24,
   "metadata": {},
   "outputs": [
    {
     "name": "stdout",
     "output_type": "stream",
     "text": [
      "0.5420702855281477\n",
      "0.9950045876916924\n",
      "Ответ:  1421 0.9001760722984115\n"
     ]
    }
   ],
   "source": [
    "\n",
    "def puasson(n, P = 0.01):\n",
    "    a = n*P\n",
    "    prob = 0\n",
    "    for k in range(0, 10):\n",
    "        prob += (a ** k) * (np.exp(-a)) / np.math.factorial(k)\n",
    "  \n",
    "    return 1 - prob\n",
    "\n",
    "# Чтобы попасть 10 раз, нужно примерно 1000 выстрелов, так что буду искать число этого порядка.\n",
    "# Использую метод деления пополам\n",
    "print(puasson(1000))\n",
    "print(puasson(2000))\n",
    "start = puasson(1000)\n",
    "end = puasson(2000)\n",
    "\n",
    "def binary_search(start = 1000, end = 2000):\n",
    "     while start <= end:\n",
    "        mid = int((start + end) / 2)\n",
    "        guess = puasson(mid)\n",
    "        if guess == 0.9:\n",
    "            return mid\n",
    "        elif guess > 0.9:\n",
    "            end = mid - 1\n",
    "        else:\n",
    "            start = mid + 1\n",
    "     if guess < 0.9:\n",
    "        return mid + 1\n",
    "     return mid \n",
    "          \n",
    "print('Ответ: ', binary_search(), puasson(binary_search()))"
   ]
  },
  {
   "cell_type": "code",
   "execution_count": null,
   "metadata": {},
   "outputs": [],
   "source": []
  }
 ],
 "metadata": {
  "kernelspec": {
   "display_name": "Python 3",
   "language": "python",
   "name": "python3"
  },
  "language_info": {
   "codemirror_mode": {
    "name": "ipython",
    "version": 3
   },
   "file_extension": ".py",
   "mimetype": "text/x-python",
   "name": "python",
   "nbconvert_exporter": "python",
   "pygments_lexer": "ipython3",
   "version": "3.7.1"
  }
 },
 "nbformat": 4,
 "nbformat_minor": 2
}
