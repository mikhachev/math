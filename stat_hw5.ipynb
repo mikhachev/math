{
 "cells": [
  {
   "cell_type": "markdown",
   "metadata": {},
   "source": [
    "Комментарий к 4му ДЗ:  \n",
    "В третьей задаче я не использовал np.pi и np.exp, т.к. в условии сказано, что обойтись без сторонних библиотек np и пр."
   ]
  },
  {
   "cell_type": "code",
   "execution_count": 8,
   "metadata": {},
   "outputs": [],
   "source": [
    "import numpy as np\n",
    "from scipy import stats"
   ]
  },
  {
   "cell_type": "markdown",
   "metadata": {},
   "source": [
    "Задача 1\n",
    "\n",
    "Утверждается, что шарики для подшипников, изготовленные автоматическим станком, имеют средний диаметр 17 мм. Используя уровень значимости 0.025 и правостороннюю критическую область, проверить данную гипотезу при условии, что в выборке из 100 шариков средний диаметр оказался равным 17.5 мм, а дисперсия известна и равна 4 мм.\n",
    "\n"
   ]
  },
  {
   "cell_type": "code",
   "execution_count": 3,
   "metadata": {},
   "outputs": [
    {
     "data": {
      "text/plain": [
       "2.5"
      ]
     },
     "execution_count": 3,
     "metadata": {},
     "output_type": "execute_result"
    }
   ],
   "source": [
    "\n",
    "\n",
    "h0 = 17\n",
    "alpha = 0.025\n",
    "n = 100\n",
    "M = 17.5\n",
    "sigma = 2\n",
    "# Такой уровень значимости соответствует квантилю 2\n",
    "# Ожидается, что это выборка с нормальным распределением\n",
    "\n",
    "Tx = (M - h0)/(sigma/np.sqrt(n))\n",
    "Tx"
   ]
  },
  {
   "cell_type": "code",
   "execution_count": null,
   "metadata": {},
   "outputs": [],
   "source": [
    "Tx больше двух, поэтому данные противоречат гипотезе h0."
   ]
  },
  {
   "cell_type": "markdown",
   "metadata": {},
   "source": [
    "Задача 2\n",
    "\n",
    "Известно, что генеральная совокупность распределена нормально с известным средним квадратическим отклонением 16. Найти доверительный интервал для оценки математического ожидания a с надёжностью 0.95, если выборочное среднее равно 80, а объём равен 256.\n",
    "\n",
    "\n"
   ]
  },
  {
   "cell_type": "code",
   "execution_count": 5,
   "metadata": {},
   "outputs": [
    {
     "data": {
      "text/plain": [
       "(78.0, 82.0)"
      ]
     },
     "execution_count": 5,
     "metadata": {},
     "output_type": "execute_result"
    }
   ],
   "source": [
    "\n",
    "alpha = 0.05\n",
    "n = 256\n",
    "M = 80\n",
    "sigma = 16\n",
    "# Снова у нас доверительный интервал с квантилем 2\n",
    "\n",
    "#| Tx = (M - h0)/(sigma/np.sqrt(n))| < 2\n",
    "\n",
    "\n",
    "#Тогда математическое ожидание должно быть в интервале\n",
    "(M - 2 * sigma/np.sqrt(n), M + 2 * sigma/np.sqrt(n))"
   ]
  },
  {
   "cell_type": "markdown",
   "metadata": {},
   "source": [
    "Задача 3\n",
    "\n",
    "Продавец утверждает, что средний вес пачки печенья составляет 200 г. Из партии извлечена выборка из 10 пачек. Вес каждой пачки составляет:\n",
    "\n",
    "202, 203, 199, 197, 195, 201, 200, 204, 194, 190\n",
    "\n",
    "Известно, что их веса распределены нормально. Верно ли утверждение продавца, если учитывать, что уровень значимости равен 1%?"
   ]
  },
  {
   "cell_type": "code",
   "execution_count": 27,
   "metadata": {},
   "outputs": [
    {
     "name": "stdout",
     "output_type": "stream",
     "text": [
      "3.2498355440153697\n",
      "128.87799585315585\n"
     ]
    },
    {
     "data": {
      "text/plain": [
       "(193.92322840036354, 203.07677159963646)"
      ]
     },
     "execution_count": 27,
     "metadata": {},
     "output_type": "execute_result"
    }
   ],
   "source": [
    "\n",
    "weight = np.array([202, 203, 199, 197, 195, 201, 200, 204, 194, 190])\n",
    "n = 10\n",
    "M = weight.mean()\n",
    "alpha = 0.01\n",
    "std = weight.std(ddof=1)\n",
    "t = stats.t.ppf(1 - alpha / 2, df=n - 1)\n",
    "print(t)\n",
    "print((M - h0)/(std/np.sqrt(n)))\n",
    "(M - t * std / np.sqrt(n), M + t * std / np.sqrt(n))"
   ]
  },
  {
   "cell_type": "markdown",
   "metadata": {},
   "source": [
    "200 попало в доверительный интервал (193.92322840036354, 203.07677159963646), считаем что продавец сказал правду."
   ]
  }
 ],
 "metadata": {
  "colab": {
   "name": "Матстат - Урок 5.ipynb",
   "provenance": [],
   "version": "0.3.2"
  },
  "kernelspec": {
   "display_name": "Python 3",
   "language": "python",
   "name": "python3"
  },
  "language_info": {
   "codemirror_mode": {
    "name": "ipython",
    "version": 3
   },
   "file_extension": ".py",
   "mimetype": "text/x-python",
   "name": "python",
   "nbconvert_exporter": "python",
   "pygments_lexer": "ipython3",
   "version": "3.7.3"
  }
 },
 "nbformat": 4,
 "nbformat_minor": 1
}
